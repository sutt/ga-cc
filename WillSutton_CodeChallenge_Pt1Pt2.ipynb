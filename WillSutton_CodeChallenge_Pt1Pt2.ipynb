{
 "cells": [
  {
   "cell_type": "markdown",
   "metadata": {},
   "source": [
    "### Code Challenge\n",
    " \n",
    " *This notebook contains both Part1 and Part2*\n",
    " \n",
    " *prompt:* https://gist.github.com/jeff-boykin/ec951ccaa1f90470b6ccc2bb1315d28a\n",
    " \n",
    " *author:* William Sutton wsutton17@gmail.com\n",
    " \n",
    " *written and submitted:* March 18 2020 \n",
    " \n",
    " *at request of:* Malorie O'Toole"
   ]
  },
  {
   "cell_type": "markdown",
   "metadata": {},
   "source": [
    "# Part 1"
   ]
  },
  {
   "cell_type": "code",
   "execution_count": 185,
   "metadata": {},
   "outputs": [],
   "source": [
    "import numpy as np\n",
    "import pandas as pd\n",
    "from matplotlib import pyplot as plt\n",
    "\n",
    "from sklearn.model_selection import train_test_split\n",
    "from sklearn.linear_model import LogisticRegression\n",
    "from sklearn.ensemble import RandomForestClassifier\n",
    "from sklearn.metrics import roc_auc_score"
   ]
  },
  {
   "cell_type": "markdown",
   "metadata": {},
   "source": [
    "### Load and Transform Data\n",
    "\n",
    "The dataset needs to be loaded with `header=None` to prevent pandas from interpreting the first row as the column names. The actual column names are loaded from a text file and attached to the dataframe.\n",
    "\n",
    "The dataset is medium sized (about 500 rows, 30 columns), and fortunately for us contains no null values. If it did contain null values we would need to either: drop the rows or columns containing any nulls, or impute the values for null values based on the other data.\n",
    "\n",
    "All the `X` fields values are numeric. We verify this by checking the dtype of each column.\n",
    "\n",
    "The `diagnosis` filed (y value) is a string type containg both `B` and `M` for Benign and Malignant. Ultimately we'll want to transform this to 1 and 0 for a a binary classification. But for now, these letter label are more descriptive and helpful for EDA.\n",
    "\n",
    "One further step could be considered at this point: Scaling the X fileds to contain the same mean variance. This is important as a pre-processing steps for some model algortihms, but can also reduce the interpretability of EDA. For this reason we'll not pursue this step until we model."
   ]
  },
  {
   "cell_type": "code",
   "execution_count": 115,
   "metadata": {},
   "outputs": [
    {
     "name": "stdout",
     "output_type": "stream",
     "text": [
      "Data Shape: (569, 32)\n"
     ]
    },
    {
     "data": {
      "text/html": [
       "<div>\n",
       "<style scoped>\n",
       "    .dataframe tbody tr th:only-of-type {\n",
       "        vertical-align: middle;\n",
       "    }\n",
       "\n",
       "    .dataframe tbody tr th {\n",
       "        vertical-align: top;\n",
       "    }\n",
       "\n",
       "    .dataframe thead th {\n",
       "        text-align: right;\n",
       "    }\n",
       "</style>\n",
       "<table border=\"1\" class=\"dataframe\">\n",
       "  <thead>\n",
       "    <tr style=\"text-align: right;\">\n",
       "      <th></th>\n",
       "      <th>ID</th>\n",
       "      <th>diagnosis</th>\n",
       "      <th>radius_mean</th>\n",
       "      <th>radius_sd_error</th>\n",
       "      <th>radius_worst</th>\n",
       "      <th>texture_mean</th>\n",
       "      <th>texture_sd_error</th>\n",
       "      <th>texture_worst</th>\n",
       "      <th>perimeter_mean</th>\n",
       "      <th>perimeter_sd_error</th>\n",
       "      <th>...</th>\n",
       "      <th>concavity_worst</th>\n",
       "      <th>concave_points_mean</th>\n",
       "      <th>concave_points_sd_error</th>\n",
       "      <th>concave_points_worst</th>\n",
       "      <th>symmetry_mean</th>\n",
       "      <th>symmetry_sd_error</th>\n",
       "      <th>symmetry_worst</th>\n",
       "      <th>fractal_dimension_mean</th>\n",
       "      <th>fractal_dimension_sd_error</th>\n",
       "      <th>fractal_dimension_worst</th>\n",
       "    </tr>\n",
       "  </thead>\n",
       "  <tbody>\n",
       "    <tr>\n",
       "      <td>0</td>\n",
       "      <td>842302</td>\n",
       "      <td>M</td>\n",
       "      <td>17.99</td>\n",
       "      <td>10.38</td>\n",
       "      <td>122.8</td>\n",
       "      <td>1001.0</td>\n",
       "      <td>0.11840</td>\n",
       "      <td>0.27760</td>\n",
       "      <td>0.3001</td>\n",
       "      <td>0.14710</td>\n",
       "      <td>...</td>\n",
       "      <td>25.38</td>\n",
       "      <td>17.33</td>\n",
       "      <td>184.6</td>\n",
       "      <td>2019.0</td>\n",
       "      <td>0.1622</td>\n",
       "      <td>0.6656</td>\n",
       "      <td>0.7119</td>\n",
       "      <td>0.2654</td>\n",
       "      <td>0.4601</td>\n",
       "      <td>0.11890</td>\n",
       "    </tr>\n",
       "    <tr>\n",
       "      <td>1</td>\n",
       "      <td>842517</td>\n",
       "      <td>M</td>\n",
       "      <td>20.57</td>\n",
       "      <td>17.77</td>\n",
       "      <td>132.9</td>\n",
       "      <td>1326.0</td>\n",
       "      <td>0.08474</td>\n",
       "      <td>0.07864</td>\n",
       "      <td>0.0869</td>\n",
       "      <td>0.07017</td>\n",
       "      <td>...</td>\n",
       "      <td>24.99</td>\n",
       "      <td>23.41</td>\n",
       "      <td>158.8</td>\n",
       "      <td>1956.0</td>\n",
       "      <td>0.1238</td>\n",
       "      <td>0.1866</td>\n",
       "      <td>0.2416</td>\n",
       "      <td>0.1860</td>\n",
       "      <td>0.2750</td>\n",
       "      <td>0.08902</td>\n",
       "    </tr>\n",
       "    <tr>\n",
       "      <td>2</td>\n",
       "      <td>84300903</td>\n",
       "      <td>M</td>\n",
       "      <td>19.69</td>\n",
       "      <td>21.25</td>\n",
       "      <td>130.0</td>\n",
       "      <td>1203.0</td>\n",
       "      <td>0.10960</td>\n",
       "      <td>0.15990</td>\n",
       "      <td>0.1974</td>\n",
       "      <td>0.12790</td>\n",
       "      <td>...</td>\n",
       "      <td>23.57</td>\n",
       "      <td>25.53</td>\n",
       "      <td>152.5</td>\n",
       "      <td>1709.0</td>\n",
       "      <td>0.1444</td>\n",
       "      <td>0.4245</td>\n",
       "      <td>0.4504</td>\n",
       "      <td>0.2430</td>\n",
       "      <td>0.3613</td>\n",
       "      <td>0.08758</td>\n",
       "    </tr>\n",
       "  </tbody>\n",
       "</table>\n",
       "<p>3 rows × 32 columns</p>\n",
       "</div>"
      ],
      "text/plain": [
       "         ID diagnosis  radius_mean  radius_sd_error  radius_worst  \\\n",
       "0    842302         M        17.99            10.38         122.8   \n",
       "1    842517         M        20.57            17.77         132.9   \n",
       "2  84300903         M        19.69            21.25         130.0   \n",
       "\n",
       "   texture_mean  texture_sd_error  texture_worst  perimeter_mean  \\\n",
       "0        1001.0           0.11840        0.27760          0.3001   \n",
       "1        1326.0           0.08474        0.07864          0.0869   \n",
       "2        1203.0           0.10960        0.15990          0.1974   \n",
       "\n",
       "   perimeter_sd_error  ...  concavity_worst  concave_points_mean  \\\n",
       "0             0.14710  ...            25.38                17.33   \n",
       "1             0.07017  ...            24.99                23.41   \n",
       "2             0.12790  ...            23.57                25.53   \n",
       "\n",
       "   concave_points_sd_error  concave_points_worst  symmetry_mean  \\\n",
       "0                    184.6                2019.0         0.1622   \n",
       "1                    158.8                1956.0         0.1238   \n",
       "2                    152.5                1709.0         0.1444   \n",
       "\n",
       "   symmetry_sd_error  symmetry_worst  fractal_dimension_mean  \\\n",
       "0             0.6656          0.7119                  0.2654   \n",
       "1             0.1866          0.2416                  0.1860   \n",
       "2             0.4245          0.4504                  0.2430   \n",
       "\n",
       "   fractal_dimension_sd_error  fractal_dimension_worst  \n",
       "0                      0.4601                  0.11890  \n",
       "1                      0.2750                  0.08902  \n",
       "2                      0.3613                  0.08758  \n",
       "\n",
       "[3 rows x 32 columns]"
      ]
     },
     "execution_count": 115,
     "metadata": {},
     "output_type": "execute_result"
    }
   ],
   "source": [
    "with open('field_names.txt', 'r') as f:\n",
    "    field_names = f.readlines()\n",
    "    \n",
    "field_names = [elem.strip() for elem in field_names]\n",
    "\n",
    "df = pd.read_csv('breast-cancer.csv', header=None, names=field_names)\n",
    "\n",
    "print(f'Data Shape: {df.shape}')\n",
    "\n",
    "df.head(3)"
   ]
  },
  {
   "cell_type": "code",
   "execution_count": 116,
   "metadata": {},
   "outputs": [
    {
     "data": {
      "text/plain": [
       "0"
      ]
     },
     "execution_count": 116,
     "metadata": {},
     "output_type": "execute_result"
    }
   ],
   "source": [
    "# check for nulls / na's\n",
    "df.isnull().sum().sum()"
   ]
  },
  {
   "cell_type": "code",
   "execution_count": 117,
   "metadata": {},
   "outputs": [
    {
     "data": {
      "text/plain": [
       "[('diagnosis', dtype('O'))]"
      ]
     },
     "execution_count": 117,
     "metadata": {},
     "output_type": "execute_result"
    }
   ],
   "source": [
    "# check for string fields that may need \n",
    "# to be OneHotEncoded / dummified\n",
    "tmp = [(col_name, col_type) \n",
    "       for col_name, col_type in zip(list(df.columns), list(df.dtypes)) \n",
    "       if col_type == np.dtype('O')\n",
    "      ]\n",
    "tmp"
   ]
  },
  {
   "cell_type": "code",
   "execution_count": 118,
   "metadata": {},
   "outputs": [
    {
     "data": {
      "text/plain": [
       "B    357\n",
       "M    212\n",
       "Name: diagnosis, dtype: int64"
      ]
     },
     "execution_count": 118,
     "metadata": {},
     "output_type": "execute_result"
    }
   ],
   "source": [
    "# Only the y-value, diagnosis needs to be transformed, view the \n",
    "# class labels here\n",
    "df['diagnosis'].value_counts()"
   ]
  },
  {
   "cell_type": "code",
   "execution_count": 119,
   "metadata": {},
   "outputs": [
    {
     "data": {
      "text/plain": [
       "0    1\n",
       "1    1\n",
       "2    1\n",
       "Name: diagnosis, dtype: int64"
      ]
     },
     "execution_count": 119,
     "metadata": {},
     "output_type": "execute_result"
    }
   ],
   "source": [
    "# demonstration of transforming y to 1/0, not applied to df \n",
    "# untill after EDA\n",
    "transform_dict = {'B':0, 'M': 1}\n",
    "transfrom_diagnosis = df['diagnosis'].map(lambda x: transform_dict[x])\n",
    "transfrom_diagnosis[:3]"
   ]
  },
  {
   "cell_type": "markdown",
   "metadata": {},
   "source": [
    "##### Compare mean for `smoothness` and `compactness` b/w malignant and benign\n",
    "\n",
    "We'll do it manually, at first using numpy methods, then we'll use pandas groupby / agg to do get the same result."
   ]
  },
  {
   "cell_type": "code",
   "execution_count": 120,
   "metadata": {},
   "outputs": [
    {
     "data": {
      "text/html": [
       "<div>\n",
       "<style scoped>\n",
       "    .dataframe tbody tr th:only-of-type {\n",
       "        vertical-align: middle;\n",
       "    }\n",
       "\n",
       "    .dataframe tbody tr th {\n",
       "        vertical-align: top;\n",
       "    }\n",
       "\n",
       "    .dataframe thead th {\n",
       "        text-align: right;\n",
       "    }\n",
       "</style>\n",
       "<table border=\"1\" class=\"dataframe\">\n",
       "  <thead>\n",
       "    <tr style=\"text-align: right;\">\n",
       "      <th></th>\n",
       "      <th>diagnosis</th>\n",
       "      <th>smoothness mean</th>\n",
       "    </tr>\n",
       "  </thead>\n",
       "  <tbody>\n",
       "    <tr>\n",
       "      <td>0</td>\n",
       "      <td>malignant</td>\n",
       "      <td>4.32</td>\n",
       "    </tr>\n",
       "    <tr>\n",
       "      <td>1</td>\n",
       "      <td>benign</td>\n",
       "      <td>2.00</td>\n",
       "    </tr>\n",
       "  </tbody>\n",
       "</table>\n",
       "</div>"
      ],
      "text/plain": [
       "   diagnosis  smoothness mean\n",
       "0  malignant             4.32\n",
       "1     benign             2.00"
      ]
     },
     "execution_count": 120,
     "metadata": {},
     "output_type": "execute_result"
    }
   ],
   "source": [
    "malig_smooth = df[(df['diagnosis'] == 'M')]['smoothness_mean']\n",
    "benin_smooth = df[(df['diagnosis'] == 'B')]['smoothness_mean']\n",
    "\n",
    "mean_malig_smooth = np.mean(malig_smooth)\n",
    "mean_benin_smooth = np.mean(benin_smooth)\n",
    "\n",
    "tmp_df = {'diagnosis': ['malignant', 'benign'],\n",
    "          'smoothness mean': [mean_malig_smooth, mean_benin_smooth]}\n",
    "\n",
    "pd.DataFrame(tmp_df).round(2)"
   ]
  },
  {
   "cell_type": "code",
   "execution_count": 121,
   "metadata": {},
   "outputs": [
    {
     "data": {
      "text/html": [
       "<div>\n",
       "<style scoped>\n",
       "    .dataframe tbody tr th:only-of-type {\n",
       "        vertical-align: middle;\n",
       "    }\n",
       "\n",
       "    .dataframe tbody tr th {\n",
       "        vertical-align: top;\n",
       "    }\n",
       "\n",
       "    .dataframe thead th {\n",
       "        text-align: right;\n",
       "    }\n",
       "</style>\n",
       "<table border=\"1\" class=\"dataframe\">\n",
       "  <thead>\n",
       "    <tr style=\"text-align: right;\">\n",
       "      <th></th>\n",
       "      <th>diagnosis</th>\n",
       "      <th>smoothness median</th>\n",
       "    </tr>\n",
       "  </thead>\n",
       "  <tbody>\n",
       "    <tr>\n",
       "      <td>0</td>\n",
       "      <td>malignant</td>\n",
       "      <td>3.68</td>\n",
       "    </tr>\n",
       "    <tr>\n",
       "      <td>1</td>\n",
       "      <td>benign</td>\n",
       "      <td>1.85</td>\n",
       "    </tr>\n",
       "  </tbody>\n",
       "</table>\n",
       "</div>"
      ],
      "text/plain": [
       "   diagnosis  smoothness median\n",
       "0  malignant               3.68\n",
       "1     benign               1.85"
      ]
     },
     "execution_count": 121,
     "metadata": {},
     "output_type": "execute_result"
    }
   ],
   "source": [
    "median_malig_smooth = np.median(malig_smooth)\n",
    "median_benin_smooth = np.median(benin_smooth)\n",
    "\n",
    "median_malig_smooth, median_benin_smooth\n",
    "\n",
    "tmp_df = {'diagnosis': ['malignant', 'benign'],\n",
    "          'smoothness median': [median_malig_smooth, median_benin_smooth]}\n",
    "\n",
    "pd.DataFrame(tmp_df).round(2)"
   ]
  },
  {
   "cell_type": "code",
   "execution_count": 122,
   "metadata": {},
   "outputs": [
    {
     "data": {
      "text/html": [
       "<div>\n",
       "<style scoped>\n",
       "    .dataframe tbody tr th:only-of-type {\n",
       "        vertical-align: middle;\n",
       "    }\n",
       "\n",
       "    .dataframe tbody tr th {\n",
       "        vertical-align: top;\n",
       "    }\n",
       "\n",
       "    .dataframe thead th {\n",
       "        text-align: right;\n",
       "    }\n",
       "</style>\n",
       "<table border=\"1\" class=\"dataframe\">\n",
       "  <thead>\n",
       "    <tr style=\"text-align: right;\">\n",
       "      <th></th>\n",
       "      <th>median</th>\n",
       "      <th>mean</th>\n",
       "    </tr>\n",
       "    <tr>\n",
       "      <th>diagnosis</th>\n",
       "      <th></th>\n",
       "      <th></th>\n",
       "    </tr>\n",
       "  </thead>\n",
       "  <tbody>\n",
       "    <tr>\n",
       "      <td>B</td>\n",
       "      <td>1.8510</td>\n",
       "      <td>2.000321</td>\n",
       "    </tr>\n",
       "    <tr>\n",
       "      <td>M</td>\n",
       "      <td>3.6795</td>\n",
       "      <td>4.323929</td>\n",
       "    </tr>\n",
       "  </tbody>\n",
       "</table>\n",
       "</div>"
      ],
      "text/plain": [
       "           median      mean\n",
       "diagnosis                  \n",
       "B          1.8510  2.000321\n",
       "M          3.6795  4.323929"
      ]
     },
     "execution_count": 122,
     "metadata": {},
     "output_type": "execute_result"
    }
   ],
   "source": [
    "df.groupby(['diagnosis']).agg(['median', 'mean'])['smoothness_mean']"
   ]
  },
  {
   "cell_type": "markdown",
   "metadata": {},
   "source": [
    "##### Do they differ?\n",
    "\n",
    "Below we'll use both graphical and statistical methods to compare if tumor smoothness is statistically significant across diagnosis classes."
   ]
  },
  {
   "cell_type": "code",
   "execution_count": 123,
   "metadata": {},
   "outputs": [
    {
     "data": {
      "image/png": "[encoded data removed]",
      "text/plain": [
       "<Figure size 432x288 with 1 Axes>"
      ]
     },
     "metadata": {
      "needs_background": "light"
     },
     "output_type": "display_data"
    }
   ],
   "source": [
    "label = ['malignant', 'benign']\n",
    "_ = plt.hist([malig_smooth, benin_smooth], bins=20)\n",
    "_ = plt.legend(label)\n",
    "_ = plt.title('Frequency for `smoothness-mean` by Diagnosis class.')\n"
   ]
  },
  {
   "cell_type": "code",
   "execution_count": 124,
   "metadata": {},
   "outputs": [
    {
     "name": "stdout",
     "output_type": "stream",
     "text": [
      "Comparing the mean smoothness of M vs B \n",
      "Z-score: 13.2\n"
     ]
    }
   ],
   "source": [
    "sd_smooth = np.std(malig_smooth)\n",
    "\n",
    "z = ( (mean_malig_smooth - mean_benin_smooth) \n",
    "       / \n",
    "      (sd_smooth / np.sqrt(len(malig_smooth)))\n",
    "     )\n",
    "\n",
    "msg = \"Comparing the mean smoothness of M vs B \\nZ-score: \"\n",
    "print(msg + str(round(z,2)))"
   ]
  },
  {
   "cell_type": "markdown",
   "metadata": {},
   "source": [
    "The `Benign-Smoothness` mean differs from the `Malignant-Smoothness` with Z-Score of 13+, meaning p-value far below 1e-3, meaning it is quite statistically significant that the two samples come from different distributions.\n",
    "\n",
    "We can also see the difference in the right tail between the two distributions graphically: Malignant has much fatter tail.\n",
    "\n",
    "These look like log-normal distirbutions, let's apply a log-transform to the Smoothness variable and see a close to normal distribution:"
   ]
  },
  {
   "cell_type": "code",
   "execution_count": 125,
   "metadata": {},
   "outputs": [
    {
     "data": {
      "image/png": "[encoded data removed]",
      "text/plain": [
       "<Figure size 432x288 with 1 Axes>"
      ]
     },
     "metadata": {
      "needs_background": "light"
     },
     "output_type": "display_data"
    }
   ],
   "source": [
    "log_malig_smooth = np.log(malig_smooth)\n",
    "log_benin_smooth = np.log(benin_smooth)\n",
    "\n",
    "label = ['malignant', 'benign']\n",
    "_ = plt.hist([log_malig_smooth, log_benin_smooth], bins=20)\n",
    "_ = plt.legend(label, title='log transform')\n",
    "_ = plt.title('Frequency for log `smoothness-mean` by Diagnosis class.')"
   ]
  },
  {
   "cell_type": "markdown",
   "metadata": {},
   "source": [
    "##### Build a function to pull bootstrap samples from the data.\n",
    "The key is to allow to perfrom sampling with replacement, we do this by pulling a random number that covers the entire length of the index of rows of the dataset, for each random pull."
   ]
  },
  {
   "cell_type": "code",
   "execution_count": 126,
   "metadata": {},
   "outputs": [],
   "source": [
    "def bootstrap(data,\n",
    "              pct_sampled=0.1, \n",
    "              num_samples=None, \n",
    "              seed=None):\n",
    "    '''\n",
    "        return: an index on `data` (list of int's) for a bootstrap sample\n",
    "        input:\n",
    "          data -        (pd.DataFrame)\n",
    "          pct_sampled - (float or None) return pct\n",
    "          num_samples - (int or None)   return len num_samples\n",
    "          seed -        (int or None)   seed that int before rand operation\n",
    "    '''\n",
    "    \n",
    "    assert pct_sampled is not None or num_samples is not None, \\\n",
    "           'must have a value for pct_sampled or num_samples '\n",
    "    \n",
    "    if seed is not None and isinstance(seed, int):\n",
    "        np.random.seed(seed)\n",
    "        \n",
    "    n = len(data)\n",
    "    \n",
    "    ret_obs = ( int(pct_sampled * n) \n",
    "                if pct_sampled is not None else\n",
    "                num_samples\n",
    "              )\n",
    "    \n",
    "    return [np.random.randint(low=0, high=n-1) \n",
    "            for _ in range(ret_obs)\n",
    "           ]\n",
    "    "
   ]
  },
  {
   "cell_type": "code",
   "execution_count": 127,
   "metadata": {},
   "outputs": [
    {
     "name": "stdout",
     "output_type": "stream",
     "text": [
      "indexes             |  sample size\n",
      "('[559, 192, 359]...', 56)\n",
      "('[47, 131, 180]...', 113)\n",
      "('[73, 297, 394]...', 200)\n"
     ]
    }
   ],
   "source": [
    "\n",
    "# Let's build some test cases to see how this function works\n",
    "\n",
    "sample1 = bootstrap(df, pct_sampled=0.1, seed=0)\n",
    "\n",
    "sample2 = bootstrap(df, pct_sampled=0.2)\n",
    "\n",
    "sample3 = bootstrap(df, pct_sampled=None, num_samples=200)\n",
    "\n",
    "print('indexes             |  sample size')\n",
    "print( *[(str(e[:3]) + '...', len(e)) for e in [sample1, sample2, sample3]]\n",
    "       ,sep='\\n')"
   ]
  },
  {
   "cell_type": "code",
   "execution_count": 128,
   "metadata": {},
   "outputs": [
    {
     "data": {
      "text/html": [
       "<div>\n",
       "<style scoped>\n",
       "    .dataframe tbody tr th:only-of-type {\n",
       "        vertical-align: middle;\n",
       "    }\n",
       "\n",
       "    .dataframe tbody tr th {\n",
       "        vertical-align: top;\n",
       "    }\n",
       "\n",
       "    .dataframe thead th {\n",
       "        text-align: right;\n",
       "    }\n",
       "</style>\n",
       "<table border=\"1\" class=\"dataframe\">\n",
       "  <thead>\n",
       "    <tr style=\"text-align: right;\">\n",
       "      <th></th>\n",
       "      <th>ID</th>\n",
       "      <th>diagnosis</th>\n",
       "      <th>radius_mean</th>\n",
       "      <th>radius_sd_error</th>\n",
       "      <th>radius_worst</th>\n",
       "      <th>texture_mean</th>\n",
       "      <th>texture_sd_error</th>\n",
       "      <th>texture_worst</th>\n",
       "      <th>perimeter_mean</th>\n",
       "      <th>perimeter_sd_error</th>\n",
       "      <th>...</th>\n",
       "      <th>concavity_worst</th>\n",
       "      <th>concave_points_mean</th>\n",
       "      <th>concave_points_sd_error</th>\n",
       "      <th>concave_points_worst</th>\n",
       "      <th>symmetry_mean</th>\n",
       "      <th>symmetry_sd_error</th>\n",
       "      <th>symmetry_worst</th>\n",
       "      <th>fractal_dimension_mean</th>\n",
       "      <th>fractal_dimension_sd_error</th>\n",
       "      <th>fractal_dimension_worst</th>\n",
       "    </tr>\n",
       "  </thead>\n",
       "  <tbody>\n",
       "    <tr>\n",
       "      <td>9</td>\n",
       "      <td>84501001</td>\n",
       "      <td>M</td>\n",
       "      <td>12.46</td>\n",
       "      <td>24.04</td>\n",
       "      <td>83.97</td>\n",
       "      <td>475.9</td>\n",
       "      <td>0.11860</td>\n",
       "      <td>0.2396</td>\n",
       "      <td>0.2273</td>\n",
       "      <td>0.08543</td>\n",
       "      <td>...</td>\n",
       "      <td>15.09</td>\n",
       "      <td>40.68</td>\n",
       "      <td>97.65</td>\n",
       "      <td>711.4</td>\n",
       "      <td>0.1853</td>\n",
       "      <td>1.0580</td>\n",
       "      <td>1.1050</td>\n",
       "      <td>0.2210</td>\n",
       "      <td>0.4366</td>\n",
       "      <td>0.20750</td>\n",
       "    </tr>\n",
       "    <tr>\n",
       "      <td>28</td>\n",
       "      <td>852973</td>\n",
       "      <td>M</td>\n",
       "      <td>15.30</td>\n",
       "      <td>25.27</td>\n",
       "      <td>102.40</td>\n",
       "      <td>732.4</td>\n",
       "      <td>0.10820</td>\n",
       "      <td>0.1697</td>\n",
       "      <td>0.1683</td>\n",
       "      <td>0.08751</td>\n",
       "      <td>...</td>\n",
       "      <td>20.27</td>\n",
       "      <td>36.71</td>\n",
       "      <td>149.30</td>\n",
       "      <td>1269.0</td>\n",
       "      <td>0.1641</td>\n",
       "      <td>0.6110</td>\n",
       "      <td>0.6335</td>\n",
       "      <td>0.2024</td>\n",
       "      <td>0.4027</td>\n",
       "      <td>0.09876</td>\n",
       "    </tr>\n",
       "    <tr>\n",
       "      <td>42</td>\n",
       "      <td>855625</td>\n",
       "      <td>M</td>\n",
       "      <td>19.07</td>\n",
       "      <td>24.81</td>\n",
       "      <td>128.30</td>\n",
       "      <td>1104.0</td>\n",
       "      <td>0.09081</td>\n",
       "      <td>0.2190</td>\n",
       "      <td>0.2107</td>\n",
       "      <td>0.09961</td>\n",
       "      <td>...</td>\n",
       "      <td>24.09</td>\n",
       "      <td>33.17</td>\n",
       "      <td>177.40</td>\n",
       "      <td>1651.0</td>\n",
       "      <td>0.1247</td>\n",
       "      <td>0.7444</td>\n",
       "      <td>0.7242</td>\n",
       "      <td>0.2493</td>\n",
       "      <td>0.4670</td>\n",
       "      <td>0.10380</td>\n",
       "    </tr>\n",
       "    <tr>\n",
       "      <td>53</td>\n",
       "      <td>857392</td>\n",
       "      <td>M</td>\n",
       "      <td>18.22</td>\n",
       "      <td>18.70</td>\n",
       "      <td>120.30</td>\n",
       "      <td>1033.0</td>\n",
       "      <td>0.11480</td>\n",
       "      <td>0.1485</td>\n",
       "      <td>0.1772</td>\n",
       "      <td>0.10600</td>\n",
       "      <td>...</td>\n",
       "      <td>20.60</td>\n",
       "      <td>24.13</td>\n",
       "      <td>135.10</td>\n",
       "      <td>1321.0</td>\n",
       "      <td>0.1280</td>\n",
       "      <td>0.2297</td>\n",
       "      <td>0.2623</td>\n",
       "      <td>0.1325</td>\n",
       "      <td>0.3021</td>\n",
       "      <td>0.07987</td>\n",
       "    </tr>\n",
       "    <tr>\n",
       "      <td>57</td>\n",
       "      <td>857793</td>\n",
       "      <td>M</td>\n",
       "      <td>14.71</td>\n",
       "      <td>21.59</td>\n",
       "      <td>95.55</td>\n",
       "      <td>656.9</td>\n",
       "      <td>0.11370</td>\n",
       "      <td>0.1365</td>\n",
       "      <td>0.1293</td>\n",
       "      <td>0.08123</td>\n",
       "      <td>...</td>\n",
       "      <td>17.87</td>\n",
       "      <td>30.70</td>\n",
       "      <td>115.70</td>\n",
       "      <td>985.5</td>\n",
       "      <td>0.1368</td>\n",
       "      <td>0.4290</td>\n",
       "      <td>0.3587</td>\n",
       "      <td>0.1834</td>\n",
       "      <td>0.3698</td>\n",
       "      <td>0.10940</td>\n",
       "    </tr>\n",
       "  </tbody>\n",
       "</table>\n",
       "<p>5 rows × 32 columns</p>\n",
       "</div>"
      ],
      "text/plain": [
       "          ID diagnosis  radius_mean  radius_sd_error  radius_worst  \\\n",
       "9   84501001         M        12.46            24.04         83.97   \n",
       "28    852973         M        15.30            25.27        102.40   \n",
       "42    855625         M        19.07            24.81        128.30   \n",
       "53    857392         M        18.22            18.70        120.30   \n",
       "57    857793         M        14.71            21.59         95.55   \n",
       "\n",
       "    texture_mean  texture_sd_error  texture_worst  perimeter_mean  \\\n",
       "9          475.9           0.11860         0.2396          0.2273   \n",
       "28         732.4           0.10820         0.1697          0.1683   \n",
       "42        1104.0           0.09081         0.2190          0.2107   \n",
       "53        1033.0           0.11480         0.1485          0.1772   \n",
       "57         656.9           0.11370         0.1365          0.1293   \n",
       "\n",
       "    perimeter_sd_error  ...  concavity_worst  concave_points_mean  \\\n",
       "9              0.08543  ...            15.09                40.68   \n",
       "28             0.08751  ...            20.27                36.71   \n",
       "42             0.09961  ...            24.09                33.17   \n",
       "53             0.10600  ...            20.60                24.13   \n",
       "57             0.08123  ...            17.87                30.70   \n",
       "\n",
       "    concave_points_sd_error  concave_points_worst  symmetry_mean  \\\n",
       "9                     97.65                 711.4         0.1853   \n",
       "28                   149.30                1269.0         0.1641   \n",
       "42                   177.40                1651.0         0.1247   \n",
       "53                   135.10                1321.0         0.1280   \n",
       "57                   115.70                 985.5         0.1368   \n",
       "\n",
       "    symmetry_sd_error  symmetry_worst  fractal_dimension_mean  \\\n",
       "9              1.0580          1.1050                  0.2210   \n",
       "28             0.6110          0.6335                  0.2024   \n",
       "42             0.7444          0.7242                  0.2493   \n",
       "53             0.2297          0.2623                  0.1325   \n",
       "57             0.4290          0.3587                  0.1834   \n",
       "\n",
       "    fractal_dimension_sd_error  fractal_dimension_worst  \n",
       "9                       0.4366                  0.20750  \n",
       "28                      0.4027                  0.09876  \n",
       "42                      0.4670                  0.10380  \n",
       "53                      0.3021                  0.07987  \n",
       "57                      0.3698                  0.10940  \n",
       "\n",
       "[5 rows x 32 columns]"
      ]
     },
     "execution_count": 128,
     "metadata": {},
     "output_type": "execute_result"
    }
   ],
   "source": [
    "# using sample1 generated from bootstrap,\n",
    "# we'll pull a subest of the dataframe, df\n",
    "# called sample1_data below\n",
    "\n",
    "sample1_ind = pd.Series([e in sample1 for e in df.index.tolist()])\n",
    "sample1_data = df[sample1_ind]\n",
    "sample1_data.head()"
   ]
  },
  {
   "cell_type": "markdown",
   "metadata": {},
   "source": [
    "### Exploratory Analysis\n",
    "\n",
    "Identifying 3 variables that are predictive of a malignant tumor.\n",
    "\n",
    "We'll use the histogram method for our graphical display, and we'll use pearson's correlation coefficient (display in plot title as `rho`) as a metric to assess the predictive impact of the filed on diagnosis.\n",
    "\n",
    "We'll use a re-usable function to save time and apply consitent measures to each of our fields of interest.\n"
   ]
  },
  {
   "cell_type": "code",
   "execution_count": 129,
   "metadata": {},
   "outputs": [
    {
     "data": {
      "image/png": "[encoded data removed]",
      "text/plain": [
       "<Figure size 432x288 with 1 Axes>"
      ]
     },
     "metadata": {
      "needs_background": "light"
     },
     "output_type": "display_data"
    },
    {
     "data": {
      "image/png": "[encoded data removed]",
      "text/plain": [
       "<Figure size 432x288 with 1 Axes>"
      ]
     },
     "metadata": {
      "needs_background": "light"
     },
     "output_type": "display_data"
    },
    {
     "data": {
      "image/png": "[encoded data removed]",
      "text/plain": [
       "<Figure size 432x288 with 1 Axes>"
      ]
     },
     "metadata": {
      "needs_background": "light"
     },
     "output_type": "display_data"
    }
   ],
   "source": [
    "def plot_field(field_name):\n",
    "    \n",
    "    malig_x = df[(df['diagnosis'] == 'M')][field_name]\n",
    "    benin_x = df[(df['diagnosis'] == 'B')][field_name]\n",
    "    \n",
    "    corr = np.corrcoef(df[field_name], transfrom_diagnosis)\n",
    "    corr = round(corr[0][1], 2)\n",
    "\n",
    "    _ = plt.hist([malig_x, benin_x])\n",
    "    _= plt.legend(['malignant', 'benign'])\n",
    "    _ = plt.title(field_name + \" - rho: \" + str(corr))\n",
    "    plt.show()\n",
    "    \n",
    "plot_field('smoothness_mean')\n",
    "plot_field('radius_mean')\n",
    "plot_field('concavity_worst')"
   ]
  },
  {
   "cell_type": "markdown",
   "metadata": {},
   "source": [
    "Each of the three fields has a correlation coefficient larger than 0.5 and the histograms show strong separation of the mode and in the tails.\n",
    "\n",
    "In `radius_mean` and `concavity_worst`, there are regions in the tails where these variables are perfect predictors of diagnosis: \n",
    " - there are no malignant cases with radius < 10 and no benign cases with radius > 20. \n",
    " - But a large portion of the data is distributed in the middle, e.g. 12 to 17 for radius_mean, where radius can not predict diagnosis by itself. \n",
    " \n",
    "It looks like the naive view of \"Very Big is Very Bad\" is a subset of the dataset, for the rest we'll need multi-variable tools.\n",
    "\n",
    "----"
   ]
  },
  {
   "cell_type": "markdown",
   "metadata": {},
   "source": [
    "### Modelling\n",
    "\n",
    "Below we'll implement RandomForest and LogisticRegression on the preprocessed dataset. \n",
    "\n",
    "To control for overfitting we'll set in upper limit on max_depth and use L2 penalty (\"ridge\"), respectively to control for overfitting.\n",
    "\n"
   ]
  },
  {
   "cell_type": "markdown",
   "metadata": {},
   "source": [
    "##### Pre-Processing\n",
    "Before modelling this binary classification task, we'll apply some pre-processing steps:\n",
    " - transforming the y-value, diagnosis into numeric 1/0\n",
    " - drop uneccesary columns like 'ID'\n",
    " - applying a train test split\n",
    " "
   ]
  },
  {
   "cell_type": "code",
   "execution_count": 130,
   "metadata": {},
   "outputs": [],
   "source": [
    "transform_dict = {'B':0, 'M': 1}\n",
    "y = df['diagnosis'].map(lambda x: transform_dict[x])"
   ]
  },
  {
   "cell_type": "code",
   "execution_count": 133,
   "metadata": {},
   "outputs": [],
   "source": [
    "x_fields = [col for col in df.columns \n",
    "            if col not in ('ID', 'diagnosis')]\n",
    "\n",
    "X = df[x_fields]"
   ]
  },
  {
   "cell_type": "code",
   "execution_count": 136,
   "metadata": {},
   "outputs": [],
   "source": [
    "X_train, X_test, y_train, y_test = train_test_split(X, y)"
   ]
  },
  {
   "cell_type": "code",
   "execution_count": 137,
   "metadata": {},
   "outputs": [
    {
     "data": {
      "text/plain": [
       "((426, 30), (143, 30))"
      ]
     },
     "execution_count": 137,
     "metadata": {},
     "output_type": "execute_result"
    }
   ],
   "source": [
    "X_train.shape, X_test.shape"
   ]
  },
  {
   "cell_type": "markdown",
   "metadata": {},
   "source": [
    "##### Fitting\n",
    "Below we instatiate our models along witht the hyperparameters we'll use to fit them. These values are determined through a combination of experimentation with this dataset and experience with other datasets.\n",
    "\n",
    "Note: `max_depth` and `penalty` and `C` for their use in controlling over-fitting."
   ]
  },
  {
   "cell_type": "code",
   "execution_count": 167,
   "metadata": {},
   "outputs": [],
   "source": [
    "lr = LogisticRegression(penalty = 'l2', C=2.0, \n",
    "                        solver='newton-cg', max_iter=200)\n",
    "\n",
    "rf = RandomForestClassifier(max_depth=5, n_estimators = 100)"
   ]
  },
  {
   "cell_type": "code",
   "execution_count": 168,
   "metadata": {},
   "outputs": [],
   "source": [
    "lr.fit(X_train, y_train);\n",
    "rf.fit(X_train, y_train);"
   ]
  },
  {
   "cell_type": "markdown",
   "metadata": {},
   "source": [
    "##### Model Evaluation\n",
    "Below we evaluate both models on two classiciation metrics:\n",
    "    - accuracy (for both train and test datasets)\n",
    "    - roc-auc \"area under the curve\" (only for test set)\n",
    "    \n",
    "We find both models perform well, with the RandomForest having lower bias, and the LogisticRegression having lower variance."
   ]
  },
  {
   "cell_type": "code",
   "execution_count": 186,
   "metadata": {},
   "outputs": [],
   "source": [
    "lr_train = lr.score(X_train, y_train)\n",
    "lr_test =  lr.score(X_test, y_test)\n",
    "\n",
    "rf_train = rf.score(X_train, y_train)\n",
    "rf_test =  rf.score(X_test, y_test)\n",
    "\n",
    "lr_auc = roc_auc_score(y_test, lr.predict_proba(X_test)[:,1])\n",
    "rf_auc = roc_auc_score(y_test, rf.predict_proba(X_test)[:,1])"
   ]
  },
  {
   "cell_type": "code",
   "execution_count": 189,
   "metadata": {},
   "outputs": [
    {
     "data": {
      "text/html": [
       "<div>\n",
       "<style scoped>\n",
       "    .dataframe tbody tr th:only-of-type {\n",
       "        vertical-align: middle;\n",
       "    }\n",
       "\n",
       "    .dataframe tbody tr th {\n",
       "        vertical-align: top;\n",
       "    }\n",
       "\n",
       "    .dataframe thead th {\n",
       "        text-align: right;\n",
       "    }\n",
       "</style>\n",
       "<table border=\"1\" class=\"dataframe\">\n",
       "  <thead>\n",
       "    <tr style=\"text-align: right;\">\n",
       "      <th></th>\n",
       "      <th>model</th>\n",
       "      <th>accuracy (train)</th>\n",
       "      <th>accuracy (test)</th>\n",
       "      <th>roc-auc (test)</th>\n",
       "    </tr>\n",
       "  </thead>\n",
       "  <tbody>\n",
       "    <tr>\n",
       "      <td>0</td>\n",
       "      <td>Logistic Regression (L2)</td>\n",
       "      <td>0.9648</td>\n",
       "      <td>0.958</td>\n",
       "      <td>0.9886</td>\n",
       "    </tr>\n",
       "    <tr>\n",
       "      <td>1</td>\n",
       "      <td>Random Forest (max_depth=5)</td>\n",
       "      <td>0.9977</td>\n",
       "      <td>0.951</td>\n",
       "      <td>0.9959</td>\n",
       "    </tr>\n",
       "  </tbody>\n",
       "</table>\n",
       "</div>"
      ],
      "text/plain": [
       "                         model  accuracy (train)  accuracy (test)  \\\n",
       "0     Logistic Regression (L2)            0.9648            0.958   \n",
       "1  Random Forest (max_depth=5)            0.9977            0.951   \n",
       "\n",
       "   roc-auc (test)  \n",
       "0          0.9886  \n",
       "1          0.9959  "
      ]
     },
     "execution_count": 189,
     "metadata": {},
     "output_type": "execute_result"
    }
   ],
   "source": [
    "tmp = {\n",
    "    'model': [\n",
    "        'Logistic Regression (L2)', \n",
    "        'Random Forest (max_depth=5)'\n",
    "        ],\n",
    "    'accuracy (train)': [lr_train, rf_train],\n",
    "    'accuracy (test)':  [lr_test, rf_test],\n",
    "    'roc-auc (test)':   [lr_auc, rf_auc],\n",
    "}\n",
    "\n",
    "pd.DataFrame(tmp).round(4)"
   ]
  },
  {
   "cell_type": "markdown",
   "metadata": {},
   "source": [
    "##### Variable Importance\n",
    "\n",
    "We'll look at the top 7 most predictive features in each of the two models. We'll use a reusable function to do this.\n",
    "\n",
    "In logistic regression we can use the absolute value of the coefficients to assess the importance of the feature to the model, while with random forests we must use a builtin feature_importance metric which accumulates the number of times a feature is used as a split within an tree esitmator of the forest."
   ]
  },
  {
   "cell_type": "code",
   "execution_count": 221,
   "metadata": {},
   "outputs": [],
   "source": [
    "def feat_magnitude(feats):\n",
    "    ''' \n",
    "        return a dataframe with:\n",
    "            index as feature-names \n",
    "            a column, `feat` sorted DESC by absolute value\n",
    "            \n",
    "        good for comparing features from rf's and lr's\n",
    "    '''\n",
    "    tmp = pd.DataFrame(feats, columns=x_fields, index=['feat']).T\n",
    "    tmp['feat_abs'] = tmp['feat'].map(lambda x: abs(x))\n",
    "    tmp = (tmp.sort_values(by='feat_abs', ascending=False)[['feat']])\n",
    "    return tmp.copy()"
   ]
  },
  {
   "cell_type": "code",
   "execution_count": 215,
   "metadata": {},
   "outputs": [
    {
     "data": {
      "text/html": [
       "<div>\n",
       "<style scoped>\n",
       "    .dataframe tbody tr th:only-of-type {\n",
       "        vertical-align: middle;\n",
       "    }\n",
       "\n",
       "    .dataframe tbody tr th {\n",
       "        vertical-align: top;\n",
       "    }\n",
       "\n",
       "    .dataframe thead th {\n",
       "        text-align: right;\n",
       "    }\n",
       "</style>\n",
       "<table border=\"1\" class=\"dataframe\">\n",
       "  <thead>\n",
       "    <tr style=\"text-align: right;\">\n",
       "      <th></th>\n",
       "      <th>feat</th>\n",
       "    </tr>\n",
       "  </thead>\n",
       "  <tbody>\n",
       "    <tr>\n",
       "      <td>area_worst</td>\n",
       "      <td>-2.053862</td>\n",
       "    </tr>\n",
       "    <tr>\n",
       "      <td>symmetry_worst</td>\n",
       "      <td>1.710698</td>\n",
       "    </tr>\n",
       "    <tr>\n",
       "      <td>fractal_dimension_mean</td>\n",
       "      <td>0.748429</td>\n",
       "    </tr>\n",
       "    <tr>\n",
       "      <td>radius_mean</td>\n",
       "      <td>-0.645300</td>\n",
       "    </tr>\n",
       "    <tr>\n",
       "      <td>perimeter_mean</td>\n",
       "      <td>0.641250</td>\n",
       "    </tr>\n",
       "    <tr>\n",
       "      <td>concave_points_mean</td>\n",
       "      <td>0.556741</td>\n",
       "    </tr>\n",
       "    <tr>\n",
       "      <td>symmetry_mean</td>\n",
       "      <td>0.518185</td>\n",
       "    </tr>\n",
       "  </tbody>\n",
       "</table>\n",
       "</div>"
      ],
      "text/plain": [
       "                            feat\n",
       "area_worst             -2.053862\n",
       "symmetry_worst          1.710698\n",
       "fractal_dimension_mean  0.748429\n",
       "radius_mean            -0.645300\n",
       "perimeter_mean          0.641250\n",
       "concave_points_mean     0.556741\n",
       "symmetry_mean           0.518185"
      ]
     },
     "execution_count": 215,
     "metadata": {},
     "output_type": "execute_result"
    }
   ],
   "source": [
    "# use the variable \n",
    "lr_coefs = lr.coef_\n",
    "\n",
    "# for sorting /display \n",
    "feat_magnitude(lr_coefs).head(7)"
   ]
  },
  {
   "cell_type": "code",
   "execution_count": 220,
   "metadata": {},
   "outputs": [
    {
     "data": {
      "text/html": [
       "<div>\n",
       "<style scoped>\n",
       "    .dataframe tbody tr th:only-of-type {\n",
       "        vertical-align: middle;\n",
       "    }\n",
       "\n",
       "    .dataframe tbody tr th {\n",
       "        vertical-align: top;\n",
       "    }\n",
       "\n",
       "    .dataframe thead th {\n",
       "        text-align: right;\n",
       "    }\n",
       "</style>\n",
       "<table border=\"1\" class=\"dataframe\">\n",
       "  <thead>\n",
       "    <tr style=\"text-align: right;\">\n",
       "      <th></th>\n",
       "      <th>feat</th>\n",
       "    </tr>\n",
       "  </thead>\n",
       "  <tbody>\n",
       "    <tr>\n",
       "      <td>concave_points_sd_error</td>\n",
       "      <td>0.165197</td>\n",
       "    </tr>\n",
       "    <tr>\n",
       "      <td>fractal_dimension_mean</td>\n",
       "      <td>0.138409</td>\n",
       "    </tr>\n",
       "    <tr>\n",
       "      <td>concave_points_worst</td>\n",
       "      <td>0.124604</td>\n",
       "    </tr>\n",
       "    <tr>\n",
       "      <td>concavity_worst</td>\n",
       "      <td>0.103517</td>\n",
       "    </tr>\n",
       "    <tr>\n",
       "      <td>radius_mean</td>\n",
       "      <td>0.065197</td>\n",
       "    </tr>\n",
       "    <tr>\n",
       "      <td>radius_worst</td>\n",
       "      <td>0.058231</td>\n",
       "    </tr>\n",
       "    <tr>\n",
       "      <td>perimeter_sd_error</td>\n",
       "      <td>0.057551</td>\n",
       "    </tr>\n",
       "  </tbody>\n",
       "</table>\n",
       "</div>"
      ],
      "text/plain": [
       "                             feat\n",
       "concave_points_sd_error  0.165197\n",
       "fractal_dimension_mean   0.138409\n",
       "concave_points_worst     0.124604\n",
       "concavity_worst          0.103517\n",
       "radius_mean              0.065197\n",
       "radius_worst             0.058231\n",
       "perimeter_sd_error       0.057551"
      ]
     },
     "execution_count": 220,
     "metadata": {},
     "output_type": "execute_result"
    }
   ],
   "source": [
    "rf_feats = rf.feature_importances_\n",
    "\n",
    "feat_magnitude([rf_feats]).head(7)"
   ]
  },
  {
   "cell_type": "markdown",
   "metadata": {},
   "source": [
    "**Further highly technichal notes on interpreting feature importance:** Many of these features appear to be correlated (\"multi-collinearity\") and this will be difficult for logistic regression to deal with, even with using an L2-regularization. It will also mean that different basis function or even different solvers could find drastically different variable importance (\"Rashomon conclusions\" Breiman 2001) for roughly equal model importance.\n",
    "\n",
    "Random Forest seem to identify multiple metrics on concavity as of the highest importantance, while logistic regression does not.\n",
    "\n",
    "We see that `radius_mean`, and `fractal_dimension_mean` are variables shared across different Learners (RF vs LR) as in top7 impact."
   ]
  },
  {
   "cell_type": "markdown",
   "metadata": {},
   "source": [
    "## Technichal Interpretation\n",
    "These models should be thought of as naive baselines for further modelling. We see a baseline of 96-99% accuracy on training set (which can be cranked to 100% if desired) and 95% on the test set. \n",
    "\n",
    "Two steps to pursue before even bringing in more advanced modelling techniques: 1.) normalize the dataset, and perhaps apply some log transforms to some features to make them distributed more normally. 2.) build more cross validation samples to view how the model fits/tests under different dataset-splits."
   ]
  },
  {
   "cell_type": "markdown",
   "metadata": {},
   "source": [
    "## Non-Technichal Interpretation\n",
    "We used two techniques to identify the factors that predict malignant vs benign tumors using two dozen statistics calculated on images of the cells/tumor.\n",
    "\n",
    "Each of these techniques has roughly 95% accurracy, meaning they will usually predict correctly 19 out 20 times.\n",
    "\n",
    "When exploring the factors individually, like tumor radius, we see a sample at each extreme of the distribution is highly predictive, while there is not a good predictive separation in the middle of the distribtuion. For example if all observations have a radius 1-20, and observation with radius 1-3 are very likely benign, and observation with radius 17-20 are very likely malignant. But for a radius of 8-12, we would need more information.\n",
    "\n",
    "So, the real challenge is this situation is not separating the clearly malignant from the clearly benign, but trying to separate the two when the situations is ambiguous on some factors.\n"
   ]
  },
  {
   "cell_type": "markdown",
   "metadata": {},
   "source": [
    "# Part 2"
   ]
  },
  {
   "cell_type": "markdown",
   "metadata": {},
   "source": [
    "### Student1\n",
    "\n",
    "##### code\n",
    "\n",
    " (-) Loading the dataset as `d` is too ambiguous a variable name, and doesn't match your code further along the script. Did you forget a transform step where d -> data? Even then, use: `data_raw -> data` as variable names\n",
    " \n",
    " (-) No need to import `cross_val_score` twice in your file.\n",
    " \n",
    " (-) All imports at the top of the file; instead of scattered thorughout.\n",
    " \n",
    " (+) Nice use of commenting to explain is happening at each step in the model pipeline!\n",
    " \n",
    " (-) Several of the imports don't work as written, e.g. use `from sklearn.linear_model import LinearRegression`\n",
    " \n",
    " (-) need to change the metric: `mean_absolute_error -> neg_mean_absolute_error` \n",
    "\n",
    "-----\n",
    " \n",
    "##### methodology\n",
    "\n",
    " - you're variables aren't x1 and x2 but y and x1. The way you have it technichally works, but you want your variables to correspond to the names \n",
    " \n",
    " \n",
    " - you'll need to change `cv` argument to be > 1 in your `cross_val_score` function. The idea of cross_val_score is we want to try a train/test split multiple times to see how different random splits impact our model performance.\n",
    " \n",
    " \n",
    " - nice use of get_dummies to create a predictor variable from categorical.\n",
    "----- \n",
    "##### conceptual:\n",
    "\n",
    " - Although there were problems with some or most of these lines and concepts, you produced an end-to-end model which is an excellent start. This can form a strong foundation for refining each of the subconcepts, one at a time. As you increase your knowledge in one area, add that improvement to this file, and watch your model's score go up!\n",
    " \n",
    "-----\n"
   ]
  },
  {
   "cell_type": "markdown",
   "metadata": {},
   "source": [
    "### Student2\n",
    "\n",
    "##### code\n",
    " \n",
    " (+) Nice use of commenting to explain is happening at each step in the model pipeline!\n",
    " \n",
    " (-) One of the imports don't work as written, e.g. use `from sklearn.model_selection import cross_val_score`\n",
    " \n",
    " (-) need to change the scoring metric: `mean_absolute_error -> neg_mean_absolute_error` \n",
    "\n",
    " (+/-) I'd do data[['ContractType']] which will allow you to add more X-variables to your model\n",
    "  \n",
    "-----\n",
    " \n",
    "##### methodology\n",
    "\n",
    " - I'd check for null values before proceeding to fit your model, otherwise, that step may fail.\n",
    " \n",
    " - Print out all your cross-val scores, that way you see min and max scores and the range.\n",
    "----- \n",
    "##### conceptual:\n",
    "\n",
    " - You've got the basic down, now time to move into intermediate step! That involves possibly utilizing multiple X variables and examining the model coefficients. To do this, you'll want to learn to make your code available to extend at each spot in the code. Well done.\n",
    " \n",
    "-----\n"
   ]
  },
  {
   "cell_type": "code",
   "execution_count": null,
   "metadata": {},
   "outputs": [],
   "source": []
  }
 ],
 "metadata": {
  "kernelspec": {
   "display_name": "Python [conda env:root] *",
   "language": "python",
   "name": "conda-root-py"
  },
  "language_info": {
   "codemirror_mode": {
    "name": "ipython",
    "version": 3
   },
   "file_extension": ".py",
   "mimetype": "text/x-python",
   "name": "python",
   "nbconvert_exporter": "python",
   "pygments_lexer": "ipython3",
   "version": "3.7.4"
  }
 },
 "nbformat": 4,
 "nbformat_minor": 2
}
